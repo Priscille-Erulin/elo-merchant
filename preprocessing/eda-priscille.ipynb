{
 "cells": [
  {
   "cell_type": "code",
   "execution_count": 24,
   "metadata": {},
   "outputs": [],
   "source": [
    "import pandas as pd\n",
    "import seaborn as sns"
   ]
  },
  {
   "cell_type": "code",
   "execution_count": 9,
   "metadata": {},
   "outputs": [],
   "source": [
    "train = pd.read_csv('train.csv')\n",
    "historical_trans = pd.read_csv('historical_transactions.csv')"
   ]
  },
  {
   "cell_type": "code",
   "execution_count": 15,
   "metadata": {},
   "outputs": [],
   "source": [
    "def add_mean_hist_transactions(train, historical_trans):\n",
    "    \"\"\" \n",
    "    This code aims at adding the feature mean of historical transactions.\n",
    "    \"\"\"\n",
    "\n",
    "    gdf = historical_trans.groupby(\"card_id\") \n",
    "\n",
    "    # calculates the mean\n",
    "    gdf = gdf[\"purchase_amount\"].agg(['mean']).reset_index() \n",
    "    gdf.columns = [\"card_id\",\"mean_hist_trans\"]\n",
    "\n",
    "    #merging with train\n",
    "    train_df = pd.merge(train, gdf, on=\"card_id\", how=\"left\")\n",
    "\n",
    "    return train_df"
   ]
  },
  {
   "cell_type": "code",
   "execution_count": null,
   "metadata": {},
   "outputs": [],
   "source": []
  }
 ],
 "metadata": {
  "kernelspec": {
   "display_name": "Python 3",
   "language": "python",
   "name": "python3"
  },
  "language_info": {
   "codemirror_mode": {
    "name": "ipython",
    "version": 3
   },
   "file_extension": ".py",
   "mimetype": "text/x-python",
   "name": "python",
   "nbconvert_exporter": "python",
   "pygments_lexer": "ipython3",
   "version": "3.9.16"
  },
  "orig_nbformat": 4
 },
 "nbformat": 4,
 "nbformat_minor": 2
}
